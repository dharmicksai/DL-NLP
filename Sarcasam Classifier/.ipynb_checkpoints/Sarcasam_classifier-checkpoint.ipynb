{
 "cells": [
  {
   "cell_type": "code",
   "execution_count": 1,
   "metadata": {},
   "outputs": [],
   "source": [
    "import json    "
   ]
  },
  {
   "cell_type": "code",
   "execution_count": 2,
   "metadata": {},
   "outputs": [],
   "source": [
    "with open(\"sarcasm.json\", 'r' )  as f:\n",
    "    datastore = json.load(f)"
   ]
  },
  {
   "cell_type": "code",
   "execution_count": 3,
   "metadata": {},
   "outputs": [],
   "source": [
    "headline=[]\n",
    "labels=[]\n",
    "for item in datastore:\n",
    "    headline.append(item['headline'])\n",
    "    labels.append(item['is_sarcastic'])"
   ]
  },
  {
   "cell_type": "code",
   "execution_count": 4,
   "metadata": {},
   "outputs": [
    {
     "name": "stdout",
     "output_type": "stream",
     "text": [
      "mom starting to fear son's web series closest thing she will have to grandchild\n"
     ]
    }
   ],
   "source": [
    "print(headline[2])"
   ]
  },
  {
   "cell_type": "code",
   "execution_count": 5,
   "metadata": {},
   "outputs": [],
   "source": [
    "from tensorflow.keras.preprocessing.text import Tokenizer\n",
    "from tensorflow.keras.preprocessing.sequence import pad_sequences"
   ]
  },
  {
   "cell_type": "code",
   "execution_count": 6,
   "metadata": {},
   "outputs": [],
   "source": [
    "tokenizer= Tokenizer(num_words=5000,oov_token='<OOV>')\n",
    "tokenizer.fit_on_texts(headline)\n",
    "word_index=tokenizer.word_index\n"
   ]
  },
  {
   "cell_type": "code",
   "execution_count": 7,
   "metadata": {},
   "outputs": [
    {
     "name": "stdout",
     "output_type": "stream",
     "text": [
      "[[ 308    1  679 ...    0    0    0]\n",
      " [   4    1 3338 ...    0    0    0]\n",
      " [ 145  838    2 ...    0    0    0]\n",
      " ...\n",
      " [   1    9   68 ...    0    0    0]\n",
      " [1541  392 4164 ...    0    0    0]\n",
      " [   1 1647    6 ...    0    0    0]]\n"
     ]
    }
   ],
   "source": [
    "headline_seq=tokenizer.texts_to_sequences(headline)\n",
    "paded_headline = pad_sequences(headline_seq,padding='post',maxlen=40)\n",
    "print(paded_headline)"
   ]
  },
  {
   "cell_type": "code",
   "execution_count": 8,
   "metadata": {},
   "outputs": [
    {
     "data": {
      "text/plain": [
       "(26709, 40)"
      ]
     },
     "execution_count": 8,
     "metadata": {},
     "output_type": "execute_result"
    }
   ],
   "source": [
    "paded_headline.shape"
   ]
  },
  {
   "cell_type": "code",
   "execution_count": 9,
   "metadata": {},
   "outputs": [],
   "source": [
    " from sklearn.model_selection import train_test_split"
   ]
  },
  {
   "cell_type": "code",
   "execution_count": 10,
   "metadata": {},
   "outputs": [],
   "source": [
    "import numpy as np"
   ]
  },
  {
   "cell_type": "code",
   "execution_count": 11,
   "metadata": {},
   "outputs": [],
   "source": [
    "labels = np.array(labels)"
   ]
  },
  {
   "cell_type": "code",
   "execution_count": 12,
   "metadata": {},
   "outputs": [],
   "source": [
    "x_train,x_test,y_train,y_test = train_test_split(paded_headline,labels,test_size=0.25, random_state=42)"
   ]
  },
  {
   "cell_type": "code",
   "execution_count": 13,
   "metadata": {},
   "outputs": [],
   "source": [
    "import tensorflow as tf\n",
    "from keras.models import Sequential\n",
    "from keras.layers import Embedding,Dense,Flatten,GlobalAveragePooling1D"
   ]
  },
  {
   "cell_type": "code",
   "execution_count": 14,
   "metadata": {},
   "outputs": [],
   "source": [
    "def sarc_model():\n",
    "    model = Sequential()\n",
    "    model.add(Embedding(5000,16,input_length=40))\n",
    "    model.add(Flatten())\n",
    "    model.add(Dense(8,activation='relu'))\n",
    "    model.add(Dense(1,activation='sigmoid'))\n",
    "    return model"
   ]
  },
  {
   "cell_type": "code",
   "execution_count": 15,
   "metadata": {},
   "outputs": [
    {
     "name": "stdout",
     "output_type": "stream",
     "text": [
      "Model: \"sequential\"\n",
      "_________________________________________________________________\n",
      "Layer (type)                 Output Shape              Param #   \n",
      "=================================================================\n",
      "embedding (Embedding)        (None, 40, 16)            80000     \n",
      "_________________________________________________________________\n",
      "flatten (Flatten)            (None, 640)               0         \n",
      "_________________________________________________________________\n",
      "dense (Dense)                (None, 8)                 5128      \n",
      "_________________________________________________________________\n",
      "dense_1 (Dense)              (None, 1)                 9         \n",
      "=================================================================\n",
      "Total params: 85,137\n",
      "Trainable params: 85,137\n",
      "Non-trainable params: 0\n",
      "_________________________________________________________________\n"
     ]
    }
   ],
   "source": [
    "model = sarc_model()\n",
    "model.compile(loss='binary_crossentropy',optimizer='adam',metrics=['accuracy'])\n",
    "model.summary()"
   ]
  },
  {
   "cell_type": "code",
   "execution_count": 16,
   "metadata": {},
   "outputs": [
    {
     "name": "stdout",
     "output_type": "stream",
     "text": [
      "Epoch 1/15\n",
      "626/626 [==============================] - 1s 938us/step - loss: 0.4771 - accuracy: 0.7480 - val_loss: 0.3421 - val_accuracy: 0.8453\n",
      "Epoch 2/15\n",
      "626/626 [==============================] - 1s 858us/step - loss: 0.2568 - accuracy: 0.8943 - val_loss: 0.3261 - val_accuracy: 0.8561\n",
      "Epoch 3/15\n",
      "626/626 [==============================] - 1s 861us/step - loss: 0.1888 - accuracy: 0.9265 - val_loss: 0.3280 - val_accuracy: 0.8621\n",
      "Epoch 4/15\n",
      "626/626 [==============================] - 1s 850us/step - loss: 0.1395 - accuracy: 0.9495 - val_loss: 0.3605 - val_accuracy: 0.8594\n",
      "Epoch 5/15\n",
      "626/626 [==============================] - 1s 862us/step - loss: 0.0961 - accuracy: 0.9692 - val_loss: 0.4028 - val_accuracy: 0.8544\n",
      "Epoch 6/15\n",
      "626/626 [==============================] - 1s 847us/step - loss: 0.0607 - accuracy: 0.9836 - val_loss: 0.4638 - val_accuracy: 0.8503\n",
      "Epoch 7/15\n",
      "626/626 [==============================] - 1s 857us/step - loss: 0.0349 - accuracy: 0.9918 - val_loss: 0.5292 - val_accuracy: 0.8464\n",
      "Epoch 8/15\n",
      "626/626 [==============================] - 1s 867us/step - loss: 0.0199 - accuracy: 0.9960 - val_loss: 0.6002 - val_accuracy: 0.8455\n",
      "Epoch 9/15\n",
      "626/626 [==============================] - 1s 850us/step - loss: 0.0117 - accuracy: 0.9976 - val_loss: 0.6741 - val_accuracy: 0.8422\n",
      "Epoch 10/15\n",
      "626/626 [==============================] - 1s 859us/step - loss: 0.0075 - accuracy: 0.9986 - val_loss: 0.7423 - val_accuracy: 0.8425\n",
      "Epoch 11/15\n",
      "626/626 [==============================] - 1s 846us/step - loss: 0.0058 - accuracy: 0.9989 - val_loss: 0.7888 - val_accuracy: 0.8389\n",
      "Epoch 12/15\n",
      "626/626 [==============================] - 1s 855us/step - loss: 0.0042 - accuracy: 0.9990 - val_loss: 0.8518 - val_accuracy: 0.8381\n",
      "Epoch 13/15\n",
      "626/626 [==============================] - 1s 848us/step - loss: 0.0033 - accuracy: 0.9991 - val_loss: 0.8843 - val_accuracy: 0.8350\n",
      "Epoch 14/15\n",
      "626/626 [==============================] - 1s 868us/step - loss: 0.0026 - accuracy: 0.9991 - val_loss: 0.9461 - val_accuracy: 0.8365\n",
      "Epoch 15/15\n",
      "626/626 [==============================] - 1s 860us/step - loss: 0.0023 - accuracy: 0.9995 - val_loss: 0.9902 - val_accuracy: 0.8347\n"
     ]
    },
    {
     "data": {
      "text/plain": [
       "<tensorflow.python.keras.callbacks.History at 0x7fbbd0277400>"
      ]
     },
     "execution_count": 16,
     "metadata": {},
     "output_type": "execute_result"
    }
   ],
   "source": [
    "model.fit(x_train,y_train,validation_data=(x_test,y_test),epochs=15)"
   ]
  },
  {
   "cell_type": "code",
   "execution_count": 17,
   "metadata": {},
   "outputs": [],
   "source": [
    "def sarc_model2():\n",
    "    model = Sequential()\n",
    "    model.add(Embedding(5000,16,input_length=40))\n",
    "    model.add(GlobalAveragePooling1D())\n",
    "    model.add(Dense(8,activation='relu'))\n",
    "    model.add(Dense(1,activation='sigmoid'))\n",
    "    return model"
   ]
  },
  {
   "cell_type": "code",
   "execution_count": 18,
   "metadata": {},
   "outputs": [
    {
     "name": "stdout",
     "output_type": "stream",
     "text": [
      "Model: \"sequential_1\"\n",
      "_________________________________________________________________\n",
      "Layer (type)                 Output Shape              Param #   \n",
      "=================================================================\n",
      "embedding_1 (Embedding)      (None, 40, 16)            80000     \n",
      "_________________________________________________________________\n",
      "global_average_pooling1d (Gl (None, 16)                0         \n",
      "_________________________________________________________________\n",
      "dense_2 (Dense)              (None, 8)                 136       \n",
      "_________________________________________________________________\n",
      "dense_3 (Dense)              (None, 1)                 9         \n",
      "=================================================================\n",
      "Total params: 80,145\n",
      "Trainable params: 80,145\n",
      "Non-trainable params: 0\n",
      "_________________________________________________________________\n"
     ]
    }
   ],
   "source": [
    "model2=sarc_model2()\n",
    "model2.compile(loss='binary_crossentropy',optimizer='adam',metrics=['accuracy'])\n",
    "model2.summary()"
   ]
  },
  {
   "cell_type": "code",
   "execution_count": 19,
   "metadata": {},
   "outputs": [
    {
     "name": "stdout",
     "output_type": "stream",
     "text": [
      "Epoch 1/30\n",
      "626/626 [==============================] - 1s 1ms/step - loss: 0.6182 - accuracy: 0.6512 - val_loss: 0.4681 - val_accuracy: 0.8146\n",
      "Epoch 2/30\n",
      "626/626 [==============================] - 1s 1ms/step - loss: 0.3785 - accuracy: 0.8454 - val_loss: 0.3591 - val_accuracy: 0.8446\n",
      "Epoch 3/30\n",
      "626/626 [==============================] - 1s 1ms/step - loss: 0.3017 - accuracy: 0.8779 - val_loss: 0.3424 - val_accuracy: 0.8488\n",
      "Epoch 4/30\n",
      "626/626 [==============================] - 1s 1ms/step - loss: 0.2667 - accuracy: 0.8905 - val_loss: 0.3469 - val_accuracy: 0.8491\n",
      "Epoch 5/30\n",
      "626/626 [==============================] - 1s 908us/step - loss: 0.2431 - accuracy: 0.9026 - val_loss: 0.3460 - val_accuracy: 0.8482\n",
      "Epoch 6/30\n",
      "626/626 [==============================] - 1s 910us/step - loss: 0.2271 - accuracy: 0.9095 - val_loss: 0.3557 - val_accuracy: 0.8518\n",
      "Epoch 7/30\n",
      "626/626 [==============================] - 1s 875us/step - loss: 0.2147 - accuracy: 0.9140 - val_loss: 0.3798 - val_accuracy: 0.8431\n",
      "Epoch 8/30\n",
      "626/626 [==============================] - 1s 884us/step - loss: 0.2046 - accuracy: 0.9190 - val_loss: 0.3807 - val_accuracy: 0.8483\n",
      "Epoch 9/30\n",
      "626/626 [==============================] - 1s 868us/step - loss: 0.1957 - accuracy: 0.9246 - val_loss: 0.3975 - val_accuracy: 0.8435\n",
      "Epoch 10/30\n",
      "626/626 [==============================] - 1s 873us/step - loss: 0.1877 - accuracy: 0.9263 - val_loss: 0.4102 - val_accuracy: 0.8464\n",
      "Epoch 11/30\n",
      "626/626 [==============================] - 1s 868us/step - loss: 0.1841 - accuracy: 0.9293 - val_loss: 0.4252 - val_accuracy: 0.8420\n",
      "Epoch 12/30\n",
      "626/626 [==============================] - 1s 887us/step - loss: 0.1768 - accuracy: 0.9327 - val_loss: 0.4377 - val_accuracy: 0.8423\n",
      "Epoch 13/30\n",
      "626/626 [==============================] - 1s 869us/step - loss: 0.1726 - accuracy: 0.9333 - val_loss: 0.4501 - val_accuracy: 0.8393\n",
      "Epoch 14/30\n",
      "626/626 [==============================] - 1s 869us/step - loss: 0.1684 - accuracy: 0.9357 - val_loss: 0.4720 - val_accuracy: 0.8356\n",
      "Epoch 15/30\n",
      "626/626 [==============================] - 1s 871us/step - loss: 0.1648 - accuracy: 0.9377 - val_loss: 0.4850 - val_accuracy: 0.8339\n",
      "Epoch 16/30\n",
      "626/626 [==============================] - 1s 868us/step - loss: 0.1618 - accuracy: 0.9396 - val_loss: 0.4892 - val_accuracy: 0.8351\n",
      "Epoch 17/30\n",
      "626/626 [==============================] - 1s 867us/step - loss: 0.1588 - accuracy: 0.9393 - val_loss: 0.5025 - val_accuracy: 0.8324\n",
      "Epoch 18/30\n",
      "626/626 [==============================] - 1s 876us/step - loss: 0.1574 - accuracy: 0.9412 - val_loss: 0.5169 - val_accuracy: 0.8305\n",
      "Epoch 19/30\n",
      "626/626 [==============================] - 1s 868us/step - loss: 0.1545 - accuracy: 0.9429 - val_loss: 0.5258 - val_accuracy: 0.8320\n",
      "Epoch 20/30\n",
      "626/626 [==============================] - 1s 878us/step - loss: 0.1514 - accuracy: 0.9435 - val_loss: 0.5466 - val_accuracy: 0.8281\n",
      "Epoch 21/30\n",
      "626/626 [==============================] - 1s 878us/step - loss: 0.1490 - accuracy: 0.9452 - val_loss: 0.5501 - val_accuracy: 0.8285\n",
      "Epoch 22/30\n",
      "626/626 [==============================] - 1s 859us/step - loss: 0.1468 - accuracy: 0.9462 - val_loss: 0.5604 - val_accuracy: 0.8281\n",
      "Epoch 23/30\n",
      "626/626 [==============================] - 1s 866us/step - loss: 0.1445 - accuracy: 0.9477 - val_loss: 0.5747 - val_accuracy: 0.8263\n",
      "Epoch 24/30\n",
      "626/626 [==============================] - 1s 874us/step - loss: 0.1420 - accuracy: 0.9490 - val_loss: 0.5986 - val_accuracy: 0.8242\n",
      "Epoch 25/30\n",
      "626/626 [==============================] - 1s 855us/step - loss: 0.1412 - accuracy: 0.9486 - val_loss: 0.6003 - val_accuracy: 0.8245\n",
      "Epoch 26/30\n",
      "626/626 [==============================] - 1s 872us/step - loss: 0.1394 - accuracy: 0.9498 - val_loss: 0.6093 - val_accuracy: 0.8242\n",
      "Epoch 27/30\n",
      "626/626 [==============================] - 1s 868us/step - loss: 0.1380 - accuracy: 0.9501 - val_loss: 0.6147 - val_accuracy: 0.8246\n",
      "Epoch 28/30\n",
      "626/626 [==============================] - 1s 873us/step - loss: 0.1354 - accuracy: 0.9522 - val_loss: 0.6344 - val_accuracy: 0.8237\n",
      "Epoch 29/30\n",
      "626/626 [==============================] - 1s 878us/step - loss: 0.1342 - accuracy: 0.9518 - val_loss: 0.6439 - val_accuracy: 0.8208\n",
      "Epoch 30/30\n",
      "626/626 [==============================] - 1s 879us/step - loss: 0.1335 - accuracy: 0.9527 - val_loss: 0.6614 - val_accuracy: 0.8205\n"
     ]
    },
    {
     "data": {
      "text/plain": [
       "<tensorflow.python.keras.callbacks.History at 0x7fbbc82df2b0>"
      ]
     },
     "execution_count": 19,
     "metadata": {},
     "output_type": "execute_result"
    }
   ],
   "source": [
    "model2.fit(x_train,y_train,validation_data=(x_test,y_test),epochs=30)"
   ]
  }
 ],
 "metadata": {
  "kernelspec": {
   "display_name": "Python 3",
   "language": "python",
   "name": "python3"
  },
  "language_info": {
   "codemirror_mode": {
    "name": "ipython",
    "version": 3
   },
   "file_extension": ".py",
   "mimetype": "text/x-python",
   "name": "python",
   "nbconvert_exporter": "python",
   "pygments_lexer": "ipython3",
   "version": "3.8.3"
  }
 },
 "nbformat": 4,
 "nbformat_minor": 4
}
