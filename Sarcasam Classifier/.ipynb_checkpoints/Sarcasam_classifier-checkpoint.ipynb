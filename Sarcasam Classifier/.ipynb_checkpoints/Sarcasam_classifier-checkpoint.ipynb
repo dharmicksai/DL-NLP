{
 "cells": [
  {
   "cell_type": "code",
   "execution_count": 1,
   "metadata": {},
   "outputs": [],
   "source": [
    "import json    "
   ]
  },
  {
   "cell_type": "markdown",
   "metadata": {},
   "source": [
    "<h2> Read Data </h2>"
   ]
  },
  {
   "cell_type": "code",
   "execution_count": 2,
   "metadata": {},
   "outputs": [],
   "source": [
    "with open(\"sarcasm.json\", 'r' )  as f:  \n",
    "    datastore = json.load(f)"
   ]
  },
  {
   "cell_type": "code",
   "execution_count": 3,
   "metadata": {},
   "outputs": [],
   "source": [
    "headline=[]\n",
    "labels=[]\n",
    "for item in datastore:\n",
    "    headline.append(item['headline'])\n",
    "    labels.append(item['is_sarcastic'])"
   ]
  },
  {
   "cell_type": "markdown",
   "metadata": {},
   "source": [
    "<h2>Preprocessing data</h2>"
   ]
  },
  {
   "cell_type": "code",
   "execution_count": 5,
   "metadata": {},
   "outputs": [],
   "source": [
    "from tensorflow.keras.preprocessing.text import Tokenizer\n",
    "from tensorflow.keras.preprocessing.sequence import pad_sequences"
   ]
  },
  {
   "cell_type": "code",
   "execution_count": 6,
   "metadata": {},
   "outputs": [],
   "source": [
    "tokenizer= Tokenizer(num_words=5000,oov_token='<OOV>')\n",
    "tokenizer.fit_on_texts(headline)\n",
    "word_index=tokenizer.word_index\n"
   ]
  },
  {
   "cell_type": "code",
   "execution_count": 7,
   "metadata": {},
   "outputs": [
    {
     "name": "stdout",
     "output_type": "stream",
     "text": [
      "[[ 308    1  679 ...    0    0    0]\n",
      " [   4    1 3338 ...    0    0    0]\n",
      " [ 145  838    2 ...    0    0    0]\n",
      " ...\n",
      " [   1    9   68 ...    0    0    0]\n",
      " [1541  392 4164 ...    0    0    0]\n",
      " [   1 1647    6 ...    0    0    0]]\n"
     ]
    }
   ],
   "source": [
    "headline_seq=tokenizer.texts_to_sequences(headline)\n",
    "paded_headline = pad_sequences(headline_seq,padding='post',maxlen=40)\n",
    "print(paded_headline)"
   ]
  },
  {
   "cell_type": "code",
   "execution_count": 8,
   "metadata": {},
   "outputs": [
    {
     "data": {
      "text/plain": [
       "(26709, 40)"
      ]
     },
     "execution_count": 8,
     "metadata": {},
     "output_type": "execute_result"
    }
   ],
   "source": [
    "paded_headline.shape"
   ]
  },
  {
   "cell_type": "code",
   "execution_count": 9,
   "metadata": {},
   "outputs": [],
   "source": [
    " from sklearn.model_selection import train_test_split"
   ]
  },
  {
   "cell_type": "code",
   "execution_count": 10,
   "metadata": {},
   "outputs": [],
   "source": [
    "import numpy as np"
   ]
  },
  {
   "cell_type": "code",
   "execution_count": 11,
   "metadata": {},
   "outputs": [],
   "source": [
    "labels = np.array(labels)"
   ]
  },
  {
   "cell_type": "markdown",
   "metadata": {},
   "source": [
    "<h2> Splitting Data into train and test dataset"
   ]
  },
  {
   "cell_type": "code",
   "execution_count": 12,
   "metadata": {},
   "outputs": [],
   "source": [
    "x_train,x_test,y_train,y_test = train_test_split(paded_headline,labels,test_size=0.25, random_state=42)"
   ]
  },
  {
   "cell_type": "code",
   "execution_count": 13,
   "metadata": {},
   "outputs": [],
   "source": [
    "import tensorflow as tf\n",
    "from keras.models import Sequential\n",
    "from keras.layers import Embedding,Dense,Flatten,GlobalAveragePooling1D,LSTM,Bidirectional"
   ]
  },
  {
   "cell_type": "markdown",
   "metadata": {},
   "source": [
    "<h2> lstm Model"
   ]
  },
  {
   "cell_type": "code",
   "execution_count": 14,
   "metadata": {},
   "outputs": [],
   "source": [
    "def sarc_model():\n",
    "    model = Sequential()\n",
    "    model.add(Embedding(5000,16,input_length=40))\n",
    "    model.add(Bidirectional(LSTM(32)))\n",
    "    model.add(Dense(8,activation='relu'))\n",
    "    model.add(Dense(1,activation='sigmoid'))\n",
    "    return model"
   ]
  },
  {
   "cell_type": "code",
   "execution_count": 15,
   "metadata": {},
   "outputs": [
    {
     "name": "stdout",
     "output_type": "stream",
     "text": [
      "Model: \"sequential\"\n",
      "_________________________________________________________________\n",
      "Layer (type)                 Output Shape              Param #   \n",
      "=================================================================\n",
      "embedding (Embedding)        (None, 40, 16)            80000     \n",
      "_________________________________________________________________\n",
      "bidirectional (Bidirectional (None, 64)                12544     \n",
      "_________________________________________________________________\n",
      "dense (Dense)                (None, 8)                 520       \n",
      "_________________________________________________________________\n",
      "dense_1 (Dense)              (None, 1)                 9         \n",
      "=================================================================\n",
      "Total params: 93,073\n",
      "Trainable params: 93,073\n",
      "Non-trainable params: 0\n",
      "_________________________________________________________________\n"
     ]
    }
   ],
   "source": [
    "model = sarc_model()\n",
    "model.compile(loss='binary_crossentropy',optimizer='adam',metrics=['accuracy'])\n",
    "model.summary()"
   ]
  },
  {
   "cell_type": "code",
   "execution_count": 16,
   "metadata": {},
   "outputs": [
    {
     "name": "stdout",
     "output_type": "stream",
     "text": [
      "Epoch 1/15\n",
      "626/626 [==============================] - 6s 10ms/step - loss: 0.4453 - accuracy: 0.7766 - val_loss: 0.3443 - val_accuracy: 0.8464\n",
      "Epoch 2/15\n",
      "626/626 [==============================] - 5s 9ms/step - loss: 0.2759 - accuracy: 0.8831 - val_loss: 0.3416 - val_accuracy: 0.8509\n",
      "Epoch 3/15\n",
      "626/626 [==============================] - 5s 8ms/step - loss: 0.2309 - accuracy: 0.9057 - val_loss: 0.3564 - val_accuracy: 0.8473\n",
      "Epoch 4/15\n",
      "626/626 [==============================] - 5s 8ms/step - loss: 0.1964 - accuracy: 0.9239 - val_loss: 0.3642 - val_accuracy: 0.8497\n",
      "Epoch 5/15\n",
      "626/626 [==============================] - 5s 8ms/step - loss: 0.1605 - accuracy: 0.9402 - val_loss: 0.3964 - val_accuracy: 0.8486\n",
      "Epoch 6/15\n",
      "626/626 [==============================] - 5s 8ms/step - loss: 0.1253 - accuracy: 0.9556 - val_loss: 0.4795 - val_accuracy: 0.8413\n",
      "Epoch 7/15\n",
      "626/626 [==============================] - 5s 8ms/step - loss: 0.1029 - accuracy: 0.9653 - val_loss: 0.4917 - val_accuracy: 0.8420\n",
      "Epoch 8/15\n",
      "626/626 [==============================] - 5s 8ms/step - loss: 0.0791 - accuracy: 0.9741 - val_loss: 0.5868 - val_accuracy: 0.8401\n",
      "Epoch 9/15\n",
      "626/626 [==============================] - 5s 9ms/step - loss: 0.0626 - accuracy: 0.9801 - val_loss: 0.6195 - val_accuracy: 0.8390\n",
      "Epoch 10/15\n",
      "626/626 [==============================] - 5s 9ms/step - loss: 0.0496 - accuracy: 0.9853 - val_loss: 0.7141 - val_accuracy: 0.8354\n",
      "Epoch 11/15\n",
      "626/626 [==============================] - 5s 8ms/step - loss: 0.0423 - accuracy: 0.9870 - val_loss: 0.7259 - val_accuracy: 0.8363\n",
      "Epoch 12/15\n",
      "626/626 [==============================] - 5s 8ms/step - loss: 0.0373 - accuracy: 0.9887 - val_loss: 0.7788 - val_accuracy: 0.8305\n",
      "Epoch 13/15\n",
      "626/626 [==============================] - 5s 8ms/step - loss: 0.0329 - accuracy: 0.9892 - val_loss: 0.8302 - val_accuracy: 0.8305\n",
      "Epoch 14/15\n",
      "626/626 [==============================] - 5s 8ms/step - loss: 0.0257 - accuracy: 0.9920 - val_loss: 0.9621 - val_accuracy: 0.8276\n",
      "Epoch 15/15\n",
      "626/626 [==============================] - 5s 9ms/step - loss: 0.0211 - accuracy: 0.9936 - val_loss: 0.9674 - val_accuracy: 0.8269\n"
     ]
    },
    {
     "data": {
      "text/plain": [
       "<tensorflow.python.keras.callbacks.History at 0x24ee814f148>"
      ]
     },
     "execution_count": 16,
     "metadata": {},
     "output_type": "execute_result"
    }
   ],
   "source": [
    "model.fit(x_train,y_train,validation_data=(x_test,y_test),epochs=15)"
   ]
  },
  {
   "cell_type": "markdown",
   "metadata": {},
   "source": [
    "<h2> Nural Network Model"
   ]
  },
  {
   "cell_type": "code",
   "execution_count": 17,
   "metadata": {},
   "outputs": [],
   "source": [
    "def sarc_model2():\n",
    "    model = Sequential()\n",
    "    model.add(Embedding(5000,16,input_length=40))\n",
    "    model.add(GlobalAveragePooling1D())\n",
    "    model.add(Dense(8,activation='relu'))\n",
    "    model.add(Dense(1,activation='sigmoid'))\n",
    "    return model"
   ]
  },
  {
   "cell_type": "code",
   "execution_count": 18,
   "metadata": {},
   "outputs": [
    {
     "name": "stdout",
     "output_type": "stream",
     "text": [
      "Model: \"sequential_1\"\n",
      "_________________________________________________________________\n",
      "Layer (type)                 Output Shape              Param #   \n",
      "=================================================================\n",
      "embedding_1 (Embedding)      (None, 40, 16)            80000     \n",
      "_________________________________________________________________\n",
      "global_average_pooling1d (Gl (None, 16)                0         \n",
      "_________________________________________________________________\n",
      "dense_2 (Dense)              (None, 8)                 136       \n",
      "_________________________________________________________________\n",
      "dense_3 (Dense)              (None, 1)                 9         \n",
      "=================================================================\n",
      "Total params: 80,145\n",
      "Trainable params: 80,145\n",
      "Non-trainable params: 0\n",
      "_________________________________________________________________\n"
     ]
    }
   ],
   "source": [
    "model2=sarc_model2()\n",
    "model2.compile(loss='binary_crossentropy',optimizer='adam',metrics=['accuracy'])\n",
    "model2.summary()"
   ]
  },
  {
   "cell_type": "code",
   "execution_count": 19,
   "metadata": {},
   "outputs": [
    {
     "name": "stdout",
     "output_type": "stream",
     "text": [
      "Epoch 1/30\n",
      "626/626 [==============================] - 3s 4ms/step - loss: 0.6408 - accuracy: 0.6334 - val_loss: 0.5258 - val_accuracy: 0.7938\n",
      "Epoch 2/30\n",
      "626/626 [==============================] - 2s 4ms/step - loss: 0.4117 - accuracy: 0.8351 - val_loss: 0.3740 - val_accuracy: 0.8441\n",
      "Epoch 3/30\n",
      "626/626 [==============================] - 2s 4ms/step - loss: 0.3173 - accuracy: 0.8712 - val_loss: 0.3450 - val_accuracy: 0.8507\n",
      "Epoch 4/30\n",
      "626/626 [==============================] - 2s 4ms/step - loss: 0.2775 - accuracy: 0.8868 - val_loss: 0.3393 - val_accuracy: 0.8524\n",
      "Epoch 5/30\n",
      "626/626 [==============================] - 3s 4ms/step - loss: 0.2519 - accuracy: 0.8985 - val_loss: 0.3473 - val_accuracy: 0.8461\n",
      "Epoch 6/30\n",
      "626/626 [==============================] - 2s 4ms/step - loss: 0.2344 - accuracy: 0.9072 - val_loss: 0.3486 - val_accuracy: 0.8543\n",
      "Epoch 7/30\n",
      "626/626 [==============================] - 2s 4ms/step - loss: 0.2209 - accuracy: 0.9124 - val_loss: 0.3579 - val_accuracy: 0.8519\n",
      "Epoch 8/30\n",
      "626/626 [==============================] - 2s 4ms/step - loss: 0.2099 - accuracy: 0.9182 - val_loss: 0.3702 - val_accuracy: 0.8495\n",
      "Epoch 9/30\n",
      "626/626 [==============================] - 2s 4ms/step - loss: 0.2008 - accuracy: 0.9206 - val_loss: 0.3830 - val_accuracy: 0.8476\n",
      "Epoch 10/30\n",
      "626/626 [==============================] - 2s 4ms/step - loss: 0.1936 - accuracy: 0.9235 - val_loss: 0.3975 - val_accuracy: 0.8444\n",
      "Epoch 11/30\n",
      "626/626 [==============================] - 2s 4ms/step - loss: 0.1862 - accuracy: 0.9274 - val_loss: 0.4076 - val_accuracy: 0.8464\n",
      "Epoch 12/30\n",
      "626/626 [==============================] - 2s 4ms/step - loss: 0.1801 - accuracy: 0.9292 - val_loss: 0.4226 - val_accuracy: 0.8432\n",
      "Epoch 13/30\n",
      "626/626 [==============================] - 2s 4ms/step - loss: 0.1754 - accuracy: 0.9326 - val_loss: 0.4373 - val_accuracy: 0.8426\n",
      "Epoch 14/30\n",
      "626/626 [==============================] - 2s 4ms/step - loss: 0.1705 - accuracy: 0.9346 - val_loss: 0.4583 - val_accuracy: 0.8374\n",
      "Epoch 15/30\n",
      "626/626 [==============================] - 2s 4ms/step - loss: 0.1673 - accuracy: 0.9370 - val_loss: 0.4603 - val_accuracy: 0.8380\n",
      "Epoch 16/30\n",
      "626/626 [==============================] - 2s 4ms/step - loss: 0.1639 - accuracy: 0.9390 - val_loss: 0.4831 - val_accuracy: 0.8386\n",
      "Epoch 17/30\n",
      "626/626 [==============================] - 2s 4ms/step - loss: 0.1593 - accuracy: 0.9398 - val_loss: 0.4869 - val_accuracy: 0.8351\n",
      "Epoch 18/30\n",
      "626/626 [==============================] - 2s 4ms/step - loss: 0.1560 - accuracy: 0.9422 - val_loss: 0.5005 - val_accuracy: 0.8336\n",
      "Epoch 19/30\n",
      "626/626 [==============================] - 2s 4ms/step - loss: 0.1521 - accuracy: 0.9446 - val_loss: 0.5233 - val_accuracy: 0.8366\n",
      "Epoch 20/30\n",
      "626/626 [==============================] - 2s 4ms/step - loss: 0.1497 - accuracy: 0.9433 - val_loss: 0.5270 - val_accuracy: 0.8333\n",
      "Epoch 21/30\n",
      "626/626 [==============================] - 2s 4ms/step - loss: 0.1487 - accuracy: 0.9447 - val_loss: 0.5403 - val_accuracy: 0.8317\n",
      "Epoch 22/30\n",
      "626/626 [==============================] - 2s 4ms/step - loss: 0.1450 - accuracy: 0.9463 - val_loss: 0.5651 - val_accuracy: 0.8323\n",
      "Epoch 23/30\n",
      "626/626 [==============================] - 2s 4ms/step - loss: 0.1427 - accuracy: 0.9476 - val_loss: 0.5721 - val_accuracy: 0.8305\n",
      "Epoch 24/30\n",
      "626/626 [==============================] - 2s 4ms/step - loss: 0.1397 - accuracy: 0.9491 - val_loss: 0.6009 - val_accuracy: 0.8279\n",
      "Epoch 25/30\n",
      "626/626 [==============================] - 3s 4ms/step - loss: 0.1366 - accuracy: 0.9497 - val_loss: 0.5873 - val_accuracy: 0.8276\n",
      "Epoch 26/30\n",
      "626/626 [==============================] - 2s 4ms/step - loss: 0.1343 - accuracy: 0.9503 - val_loss: 0.6270 - val_accuracy: 0.8288\n",
      "Epoch 27/30\n",
      "626/626 [==============================] - 3s 4ms/step - loss: 0.1323 - accuracy: 0.9523 - val_loss: 0.6224 - val_accuracy: 0.8267\n",
      "Epoch 28/30\n",
      "626/626 [==============================] - 2s 4ms/step - loss: 0.1288 - accuracy: 0.9531 - val_loss: 0.6348 - val_accuracy: 0.8264\n",
      "Epoch 29/30\n",
      "626/626 [==============================] - 2s 4ms/step - loss: 0.1268 - accuracy: 0.9544 - val_loss: 0.6590 - val_accuracy: 0.8260\n",
      "Epoch 30/30\n",
      "626/626 [==============================] - 2s 4ms/step - loss: 0.1248 - accuracy: 0.9538 - val_loss: 0.6690 - val_accuracy: 0.8254\n"
     ]
    },
    {
     "data": {
      "text/plain": [
       "<tensorflow.python.keras.callbacks.History at 0x250a6253348>"
      ]
     },
     "execution_count": 19,
     "metadata": {},
     "output_type": "execute_result"
    }
   ],
   "source": [
    "model2.fit(x_train,y_train,validation_data=(x_test,y_test),epochs=30)"
   ]
  }
 ],
 "metadata": {
  "kernelspec": {
   "display_name": "Python 3",
   "language": "python",
   "name": "python3"
  },
  "language_info": {
   "codemirror_mode": {
    "name": "ipython",
    "version": 3
   },
   "file_extension": ".py",
   "mimetype": "text/x-python",
   "name": "python",
   "nbconvert_exporter": "python",
   "pygments_lexer": "ipython3",
   "version": "3.7.9"
  }
 },
 "nbformat": 4,
 "nbformat_minor": 4
}
